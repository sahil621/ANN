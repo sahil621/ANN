#Practical No. 5
#Write a python Program for Bidirectional Associative Memory with two pairs of vectors.
import numpy as np

class BAM:
    def __init__(self, X, Y):
        self.X = X
        self.Y = Y
        self.W = np.dot(X.T, Y)
        self.T = np.dot(Y.T, X)

    def recall_X(self, Y):
        return np.dot(Y, self.W.T)

    def recall_Y(self, X):
        return np.dot(X, self.T.T)

# Example vectors
X = np.array([[1, 0, 1],
              [0, 1, 0]])
Y = np.array([[1, 1, 0],
              [0, 0, 1]])

# Create BAM
bam = BAM(X, Y)

# Test recall
test_X = np.array([[1, 0, 0]])
test_Y = np.array([[0, 1, 1]])

recalled_X = bam.recall_X(test_Y)
recalled_Y = bam.recall_Y(test_X)

print("Recalled X:", recalled_X)
print("Recalled Y:", recalled_Y)