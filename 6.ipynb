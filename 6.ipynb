#Practical No. 6
#Write a python program to recognize the number 0, 1, 2, 39. A 5 * 3 matrix forms the numbers. For any valid point it is taken as 1 and invalid point it is taken as 0. The net has to be trained to recognize all the numbers and when the test data is given, the network has to recognize the particular numbers.
import numpy as np
from sklearn.neural_network import MLPClassifier
 
# Define training data
X_train = np.array([
    [1, 1, 1, 1, 1,   # Digit 0
     1, 0, 0, 0, 1,
     1, 0, 0, 0, 1],
    
    [0, 0, 1, 0, 0,   # Digit 1
     0, 0, 1, 0, 0,
     0, 0, 1, 0, 0],
    
    [1, 1, 1, 0, 0,   # Digit 2
     1, 1, 1, 1, 1,
     1, 0, 0, 0, 0],
    
    [1, 1, 1, 0, 0,   # Digit 3
     1, 1, 1, 0, 0,
     1, 1, 1, 0, 0],
    
    [1, 0, 1, 0, 1,   # Digit 4
     1, 0, 1, 0, 1,
     1, 1, 1, 1, 1],
    
    [1, 1, 1, 0, 0,   # Digit 5
     1, 0, 0, 0, 0,
     1, 1, 1, 0, 0],
    
    [1, 1, 1, 0, 0,   # Digit 6
     1, 0, 0, 0, 0,
     1, 1, 1, 1, 1],
    
    [1, 1, 1, 0, 0,   # Digit 7
     0, 0, 1, 0, 0,
     0, 0, 1, 0, 0],
    
    [1, 1, 1, 1, 1,   # Digit 8
     1, 1, 1, 1, 1,
     1, 1, 1, 1, 1],
    
    [1, 1, 1, 0, 0,   # Digit 9
     1, 1, 1, 0, 0,
     1, 1, 1, 0, 0]
])
 
# Define labels
y_train = np.array([0, 1, 2, 3, 4, 5, 6, 7, 8, 9])
 
# Create and train the neural network
clf = MLPClassifier(hidden_layer_sizes=(15,), activation='relu', max_iter=1000)
clf.fit(X_train, y_train)
 
# Test the trained model
def recognize_number(input_data):
    predicted_digit = clf.predict([input_data])
    return predicted_digit[0]
 
# Example test data
test_data = [
    [1, 1, 1, 1, 1,   # Test digit 8
     1, 1, 1, 1, 1,
     1, 1, 1, 1, 1]
]
 
# Test the model
for data in test_data:
    predicted_number = recognize_number(data)
    print("Predicted Number:", predicted_number)