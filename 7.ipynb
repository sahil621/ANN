#Practical No. 7
#Write a python program to show Back Propagation Network for XOR function with Binary Input and Output.
import numpy as np
 
class NeuralNetwork:
    def __init__(self):
        # Define architecture
        self.input_size = 2
        self.hidden_size = 2
        self.output_size = 1
        
        # Initialize weights and biases
        self.weights_input_hidden = np.random.randn(self.input_size, self.hidden_size)
        self.biases_input_hidden = np.zeros((1, self.hidden_size))
        self.weights_hidden_output = np.random.randn(self.hidden_size, self.output_size)
        self.biases_hidden_output = np.zeros((1, self.output_size))
 
    def sigmoid(self, x):
        return 1 / (1 + np.exp(-x))
 
    def sigmoid_derivative(self, x):
        return x * (1 - x)
 
    def forward_propagation(self, inputs):
        # Forward propagation through the network
        self.hidden_sum = np.dot(inputs, self.weights_input_hidden) + self.biases_input_hidden
        self.hidden_output = self.sigmoid(self.hidden_sum)
        self.output_sum = np.dot(self.hidden_output, self.weights_hidden_output) + self.biases_hidden_output
        self.output = self.sigmoid(self.output_sum)
        return self.output
 
    def backpropagation(self, inputs, targets):
        # Backpropagation
        output_errors = targets - self.output
        output_gradients = output_errors * self.sigmoid_derivative(self.output)
        
        hidden_errors = np.dot(output_gradients, self.weights_hidden_output.T)
        hidden_gradients = hidden_errors * self.sigmoid_derivative(self.hidden_output)
        
        # Update weights and biases
        self.weights_hidden_output += np.dot(self.hidden_output.T, output_gradients)
        self.biases_hidden_output += np.sum(output_gradients, axis=0, keepdims=True)
        self.weights_input_hidden += np.dot(inputs.T, hidden_gradients)
        self.biases_input_hidden += np.sum(hidden_gradients, axis=0, keepdims=True)
 
    def train(self, inputs, targets, epochs):
        for epoch in range(epochs):
            # Forward propagation
            outputs = self.forward_propagation(inputs)
            
            # Backpropagation
            self.backpropagation(inputs, targets)
            
            # Calculate and print the loss (MSE)
            loss = np.mean(np.square(targets - outputs))
            print(f"Epoch {epoch+1}/{epochs}, Loss: {loss:.6f}")
 
# Define XOR training data (binary input and output)
X = np.array([[0, 0],
              [0, 1],
              [1, 0],
              [1, 1]])
y = np.array([[0],
              [1],
              [1],
              [0]])
 
# Create and train the neural network
nn = NeuralNetwork()
nn.train(X, y, epochs=10000)
 
# Test the trained model
print("\nTesting the trained model:")
for i in range(len(X)):
    output = nn.forward_propagation(X[i])
    print(f"Input: {X[i]}, Predicted Output: {output[0]}")