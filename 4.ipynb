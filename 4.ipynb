#Practical 4
#With a suitable example demonstrate the perceptron learning law with its decision regions using python.
#Give the output in graphical form.
import numpy as np
import matplotlib.pyplot as plt
from sklearn.datasets import make_blobs
from sklearn.linear_model import Perceptron
 
# Generate example data with two classes
X, y = make_blobs(n_samples=100, centers=2, random_state=42)
 
# Create and train a perceptron model
perceptron = Perceptron()
perceptron.fit(X, y)
 
# Define a function to plot decision regions
def plot_decision_regions(X, y, model):
    # Plot data points
    plt.scatter(X[:, 0], X[:, 1], c=y, cmap='coolwarm', edgecolors='k', s=100)
    
    # Create a meshgrid to plot decision regions
    xx, yy = np.meshgrid(np.linspace(X[:,0].min()-1, X[:,0].max()+1, 100),
                         np.linspace(X[:,1].min()-1, X[:,1].max()+1, 100))
    
    # Predict labels for each point in the meshgrid
    Z = model.predict(np.c_[xx.ravel(), yy.ravel()])
    Z = Z.reshape(xx.shape)
    
    # Plot decision boundary and margins
    plt.contourf(xx, yy, Z, alpha=0.4, cmap='coolwarm')
    plt.xlim(xx.min(), xx.max())
    plt.ylim(yy.min(), yy.max())
 
# Plot decision regions
plt.figure(figsize=(10, 6))
plot_decision_regions(X, y, perceptron)
plt.title('Decision Regions of Perceptron')
plt.xlabel('Feature 1')
plt.ylabel('Feature 2')
plt.show()