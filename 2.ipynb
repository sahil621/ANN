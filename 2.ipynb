2)#Generate ANDNOT function using McCulloch-Pitts neural net by a python program.

import numpy as np

def mp_neuron(inputs, weights, threshold):
    weighted_sum = np.dot(inputs, weights)
    output = 1 if weighted_sum >= threshold else 0
    return output
 
def and_not(x1, x2):
    weights = [1, -1]  # Weights for AND NOT
    threshold = 1
    inputs = np.array([x1, x2])
    output = mp_neuron(inputs, weights, threshold)
    return output

# Print the truth table
print("x1\tx2\tOutput")
print("-" * 20)
for x1 in [0, 1]:
    for x2 in [0, 1]:
        output = and_not(x1, x2)
        print(f"{x1}\t{x2}\t{output}")
