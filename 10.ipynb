#Practical No. 10
#Write a python program to design a Hopfield Network which stores 4 vectors
import numpy as np
 
class HopfieldNetwork:
    def __init__(self, n):
        self.n = n  # Number of neurons
        self.weights = np.zeros((n, n))  # Weight matrix
 
    def train(self, patterns):
        # Hebbian learning rule
        for pattern in patterns:
            pattern = pattern.reshape(-1, 1)  # Reshape pattern to a column vector
            self.weights += np.outer(pattern, pattern)
 
        # Set diagonal elements to 0 (self-connections are not allowed)
        np.fill_diagonal(self.weights, 0)
 
    def energy(self, state):
        # Calculate the energy of the network for a given state
        return -0.5 * np.dot(state.T, np.dot(self.weights, state))
 
    def update_rule(self, state):
        # Asynchronous update rule
        for i in range(self.n):
            activation = np.dot(self.weights[i], state)
            state[i] = 1 if activation > 0 else -1
        return state
 
    def recall(self, pattern, max_iter=100):
        # Recall a stored pattern
        pattern = pattern.reshape(-1, 1)  # Reshape pattern to a column vector
        state = pattern.copy()
        for _ in range(max_iter):
            new_state = self.update_rule(state)
            if np.array_equal(new_state, state):
                return new_state.flatten()
            state = new_state
        return None  # Convergence not reached within max_iter iterations
 
# Define patterns to be stored in the network
patterns = np.array([
    [1, 1, -1, -1],
    [-1, -1, 1, 1],
    [1, -1, 1, -1],
    [-1, 1, -1, 1]
])
 
# Create and train the Hopfield network
hopfield_net = HopfieldNetwork(n=len(patterns[0]))
hopfield_net.train(patterns)
 
# Test recall for each stored pattern
for i, pattern in enumerate(patterns):
    recalled_pattern = hopfield_net.recall(pattern)
    print(f"Pattern {i+1}: {pattern}, Recalled Pattern: {recalled_pattern}")