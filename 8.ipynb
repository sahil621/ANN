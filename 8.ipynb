#Practical No. 8
#Write a python program to illustrate ART neural network.
import numpy as np
 
class ART:
    def __init__(self, input_size, vigilance):
        self.input_size = input_size
        self.vigilance = vigilance
        self.W = np.zeros((1, input_size))  # Weights matrix
        self.n = 0  # Number of clusters
 
    def compute_similarity(self, X):
        return np.sum(np.minimum(X, self.W)) / np.sum(X)
 
    def update_weights(self, X):
        self.W += (X - self.W) / self.n  # Update weights with the input
 
    def add_cluster(self, X):
        self.W = np.vstack((self.W, X))
        self.n += 1
 
    def fit(self, X):
        for i, x in enumerate(X):
            matched = False
            for j in range(self.n):
                similarity = self.compute_similarity(x)
                if similarity >= self.vigilance:
                    self.update_weights(x)
                    matched = True
                    break
            if not matched:
                self.add_cluster(x)
                print(f"New cluster created for sample {i+1}")
 
    def predict(self, X):
        labels = []
        for x in X:
            matched = False
            for j in range(self.n):
                similarity = self.compute_similarity(x)
                if similarity >= self.vigilance:
                    labels.append(j)
                    matched = True
                    break
            if not matched:
                labels.append(-1)  # Unknown cluster
        return labels
 
# Example data
X = np.array([[1, 1, 0, 0],
              [0, 0, 1, 1],
              [1, 0, 1, 0],
              [0, 1, 0, 1]])
 
# Create and fit ART network
art = ART(input_size=X.shape[1], vigilance=0.5)
art.fit(X)
 
# Test the ART network
test_data = np.array([[1, 1, 0, 0],
                      [1, 0, 1, 0],
                      [0, 0, 1, 1]])
 
predicted_labels = art.predict(test_data)
print("Predicted Labels:", predicted_labels)