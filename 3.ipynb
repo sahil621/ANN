{
 "cells": [
  {
   "cell_type": "markdown",
   "id": "7579e96d",
   "metadata": {},
   "source": [
    "3) Write a Python Program using Perceptron Neural Network to recognise even and odd numbers.\n",
    "Given numbers are in ASCII form 0 to 9"
   ]
  },
  {
   "cell_type": "code",
   "execution_count": 1,
   "id": "34b37643",
   "metadata": {},
   "outputs": [
    {
     "name": "stdout",
     "output_type": "stream",
     "text": [
      "Number: 1, Prediction: Odd\n",
      "Number: 2, Prediction: Even\n",
      "Number: 3, Prediction: Odd\n",
      "Number: 4, Prediction: Even\n",
      "Number: 5, Prediction: Odd\n",
      "Number: 6, Prediction: Even\n",
      "Number: 7, Prediction: Odd\n",
      "Number: 8, Prediction: Even\n",
      "Number: 9, Prediction: Odd\n",
      "Number: 0, Prediction: Even\n"
     ]
    }
   ],
   "source": [
    "import numpy as np\n",
    " \n",
    "class Perceptron:\n",
    "    def __init__(self, input_size):\n",
    "        self.weights = np.zeros(input_size + 1)  # Additional weight for bias\n",
    "        self.learning_rate = 0.1\n",
    " \n",
    "    def activate(self, inputs):\n",
    "        # Activation function (Step function)\n",
    "        return 1 if np.dot(inputs, self.weights[1:]) + self.weights[0] >= 0 else 0\n",
    " \n",
    "    def train(self, training_inputs, labels, epochs):\n",
    "        for _ in range(epochs):\n",
    "            for inputs, label in zip(training_inputs, labels):\n",
    "                prediction = self.activate(inputs)\n",
    "                self.weights[1:] += self.learning_rate * (label - prediction) * inputs\n",
    "                self.weights[0] += self.learning_rate * (label - prediction)\n",
    " \n",
    "def preprocess_input(num):\n",
    "    # Convert ASCII representation of digits to binary\n",
    "    return [int(bit) for bit in format(num, '08b')]  # 8-bit binary representation\n",
    " \n",
    "def is_even(num):\n",
    "    return num % 2 == 0\n",
    " \n",
    "def is_odd(num):\n",
    "    return not is_even(num)\n",
    " \n",
    "# Training data\n",
    "training_data = []\n",
    "labels = []\n",
    " \n",
    "for i in range(48, 58):  # ASCII values for digits 0 to 9\n",
    "    binary_representation = preprocess_input(i)\n",
    "    training_data.append(binary_representation)\n",
    "    labels.append(1 if is_even(i) else 0)  # Label 1 for even, 0 for odd\n",
    " \n",
    "# Create and train the perceptron\n",
    "perceptron = Perceptron(input_size=8)  # 8 bits for ASCII representation\n",
    "perceptron.train(np.array(training_data), np.array(labels), epochs=100)\n",
    " \n",
    "# Test the perceptron\n",
    "test_numbers = [49, 50, 51, 52, 53, 54, 55, 56, 57, 48]  # ASCII values for digits 1 to 9 and 0\n",
    "for num in test_numbers:\n",
    "    input_data = preprocess_input(num)\n",
    "    prediction = perceptron.activate(input_data)\n",
    "    print(f\"Number: {chr(num)}, Prediction: {'Even' if prediction == 1 else 'Odd'}\")\n"
   ]
  },
  {
   "cell_type": "code",
   "execution_count": null,
   "id": "47cd1ea7",
   "metadata": {},
   "outputs": [],
   "source": []
  }
 ],
 "metadata": {
  "kernelspec": {
   "display_name": "Python 3 (ipykernel)",
   "language": "python",
   "name": "python3"
  },
  "language_info": {
   "codemirror_mode": {
    "name": "ipython",
    "version": 3
   },
   "file_extension": ".py",
   "mimetype": "text/x-python",
   "name": "python",
   "nbconvert_exporter": "python",
   "pygments_lexer": "ipython3",
   "version": "3.9.12"
  }
 },
 "nbformat": 4,
 "nbformat_minor": 5
}
